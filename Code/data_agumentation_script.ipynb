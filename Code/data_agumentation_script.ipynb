{
 "cells": [
  {
   "cell_type": "code",
   "execution_count": 1,
   "metadata": {},
   "outputs": [],
   "source": [
    "import imageio\n",
    "import imgaug as ia\n",
    "import os\n",
    "from imgaug import augmenters as iaa\n",
    "import matplotlib.pyplot as plt\n",
    "%matplotlib inline\n"
   ]
  },
  {
   "cell_type": "code",
   "execution_count": 2,
   "metadata": {},
   "outputs": [],
   "source": [
    "seq = iaa.Sequential([\n",
    "    iaa.Affine(rotate=(-25, 25)),\n",
    "    iaa.ElasticTransformation(alpha=90, sigma=9),  # water-like effect\n",
    "    iaa.Cutout(),\n",
    "    iaa.AdditiveGaussianNoise(scale=(1, 5)),\n",
    "    iaa.Crop(percent=(0, 0.4))\n",
    "], random_order=True)\n"
   ]
  },
  {
   "cell_type": "code",
   "execution_count": 4,
   "metadata": {},
   "outputs": [],
   "source": [
    "path = '/Users/marconobile/Desktop/CVPR_PRJ/train_templates/'\n",
    "i=0\n",
    "for root, dirs, files in os.walk(path, topdown=True):\n",
    "    for name in files:\n",
    "        current_file = str(os.path.join(root, name))\n",
    "        if current_file[-1] == 'm':\n",
    "            image = imageio.imread(current_file)\n",
    "            images = [image, image, image, image]\n",
    "            images_aug = [seq(image=image) for _ in range(8)]\n",
    "            for el in images_aug:\n",
    "#                 plt.imsave(root+'/img_agu_'+str(i)+ '.ppm', el) \n",
    "                i+=1\n",
    "\n",
    "\n"
   ]
  },
  {
   "cell_type": "code",
   "execution_count": null,
   "metadata": {},
   "outputs": [],
   "source": []
  }
 ],
 "metadata": {
  "kernelspec": {
   "display_name": "Python 3",
   "language": "python",
   "name": "python3"
  },
  "language_info": {
   "codemirror_mode": {
    "name": "ipython",
    "version": 3
   },
   "file_extension": ".py",
   "mimetype": "text/x-python",
   "name": "python",
   "nbconvert_exporter": "python",
   "pygments_lexer": "ipython3",
   "version": "3.7.5"
  }
 },
 "nbformat": 4,
 "nbformat_minor": 2
}
