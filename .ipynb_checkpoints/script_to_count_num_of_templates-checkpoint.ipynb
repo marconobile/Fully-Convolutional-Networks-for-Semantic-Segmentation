{
 "cells": [
  {
   "cell_type": "markdown",
   "metadata": {},
   "source": [
    "# COUNTING NUMBERS OF AGUMENTED TEMPLATES"
   ]
  },
  {
   "cell_type": "code",
   "execution_count": 73,
   "metadata": {},
   "outputs": [
    {
     "name": "stdout",
     "output_type": "stream",
     "text": [
      "10917\n"
     ]
    }
   ],
   "source": [
    "# import os\n",
    "# path = '/Users/marconobile/Desktop/CVPR_PRJ/train_templates/'\n",
    "# i=0\n",
    "# for root, dirs, files in os.walk(path, topdown=True):\n",
    "#     for name in files:\n",
    "#         current_file = str(os.path.join(root, name))\n",
    "#         if current_file[-1] == 'm':\n",
    "# #             print(current_file)\n",
    "#             i+=1\n",
    "# print(i)\n"
   ]
  },
  {
   "cell_type": "markdown",
   "metadata": {},
   "source": [
    "# COUNTING NUMBERS OF ORIGINAL TEMPLATES"
   ]
  },
  {
   "cell_type": "code",
   "execution_count": 75,
   "metadata": {},
   "outputs": [
    {
     "name": "stdout",
     "output_type": "stream",
     "text": [
      "1213\n"
     ]
    }
   ],
   "source": [
    "# path = '/Users/marconobile/Desktop/train_templates_original/'\n",
    "# i=0\n",
    "# for root, dirs, files in os.walk(path, topdown=True):\n",
    "#     for name in files:\n",
    "#         current_file = str(os.path.join(root, name))\n",
    "#         if current_file[-1] == 'm':\n",
    "# #             print(current_file)\n",
    "#             i+=1\n",
    "# print(i)\n"
   ]
  },
  {
   "cell_type": "markdown",
   "metadata": {},
   "source": [
    "# COUNTING AVG NUMB OF TRAFFIC SIGNS IN PICTURES MIN=1, MAX = 6\n",
    "We dropped all targets that had no templates"
   ]
  },
  {
   "cell_type": "code",
   "execution_count": 59,
   "metadata": {},
   "outputs": [],
   "source": [
    "# obs_data = {}\n",
    "# with open(\"./gt.txt\", \"r\") as file:\n",
    "#     data = file.readlines()\n",
    "#     for line in data:\n",
    "#         LINE = line.split(';')\n",
    "#         if LINE[0] not in obs_data.keys():\n",
    "#             obs_data[LINE[0]] = [[LINE[1],LINE[2],LINE[3],LINE[4],LINE[5].rstrip('\\n')]]\n",
    "#         else:\n",
    "#             obs_data[LINE[0]].append([LINE[1],LINE[2],LINE[3],LINE[4],LINE[5].rstrip('\\n')])\n",
    "\n",
    "            \n",
    "# max_len = 0\n",
    "# numb_of_tr_per_pic = {}\n",
    "# for key,val in obs_data.items():\n",
    "#     numb_of_tr_per_pic[key] = len(val)\n",
    "    \n",
    "# np.mean(list(numb_of_tr_per_pic.values()))"
   ]
  }
 ],
 "metadata": {
  "kernelspec": {
   "display_name": "Python 3",
   "language": "python",
   "name": "python3"
  },
  "language_info": {
   "codemirror_mode": {
    "name": "ipython",
    "version": 3
   },
   "file_extension": ".py",
   "mimetype": "text/x-python",
   "name": "python",
   "nbconvert_exporter": "python",
   "pygments_lexer": "ipython3",
   "version": "3.7.5"
  }
 },
 "nbformat": 4,
 "nbformat_minor": 2
}
